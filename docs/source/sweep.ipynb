{
 "cells": [
  {
   "cell_type": "code",
   "execution_count": null,
   "metadata": {},
   "outputs": [],
   "source": [
    "import numpy as np\n",
    "import psdr, psdr.demos\n",
    "import matplotlib.pyplot as plt\n",
    "import matplotlib.patches as mpatches\n",
    "%matplotlib inline\n",
    "%config InlineBackend.figure_format = 'retina'"
   ]
  },
  {
   "cell_type": "markdown",
   "metadata": {},
   "source": [
    "# Assessing Smoothness\n",
    "Most parameter space dimension reduction techniques make a tacit assumption that the function we are working with is at least Lipschitz continuous.  There is a simple reason: if we cannot assume some degree of regularity for the function, then dimension reduction becomes untractible. Hence it is important to check if the model we have constructed is continuous with respect to its inputs. One way to check for smoothness is to perform a \"parameter sweep.\"  Given a point in the domain, $\\mathbf{x}\\in \\mathcal{D}$, we draw a line in the direction $\\mathbf{p}$ extending in either direction to the boundary of the domain. The function `domain.sweep` provides a helper for doing so.  We then check for smoothness by plotting the value of $f(\\mathbf{x})$ along this line."
   ]
  },
  {
   "cell_type": "code",
   "execution_count": null,
   "metadata": {},
   "outputs": [],
   "source": [
    "dom = psdr.BoxDomain([-1,-1], [1,1])\n",
    "x = [0.5, 0]\n",
    "p = [0.5, 0.5]\n",
    "X, y = dom.sweep(x = x, p = p)\n",
    "fun = psdr.Function(lambda x: x[0]*x[1], dom)\n",
    "# Draw the sweep\n",
    "fig, axes = plt.subplots(1,2, figsize = (10,5))\n",
    "\n",
    "ax = axes[0]\n",
    "rect = mpatches.Rectangle([-1,-1], 2, 2, ec=\"none\", fc = 'black', alpha = 0.1)\n",
    "ax.add_patch(rect)\n",
    "ax.plot(X[:,0], X[:,1], 'k.-', markersize = 10) # points on the sweep\n",
    "ax.plot(x[0], x[1], 'ro') # The point the sweep passes through\n",
    "ax.axis('equal')\n",
    "ax.set_title('Sweep Locations')\n",
    "ax.axis('off');\n",
    "\n",
    "ax = axes[1]\n",
    "fX = fun(X)\n",
    "ax.plot(y, fX, 'k.')\n",
    "ax.set_ylabel('$f(\\mathbf{x})$')\n",
    "ax.set_xlabel('length along sweep')\n",
    "ax.set_title('Function along the sweep')\n",
    "fig.tight_layout();"
   ]
  },
  {
   "cell_type": "markdown",
   "metadata": {},
   "source": [
    "In this artifical example above, we see that the quadratic function $f(\\mathbf{x}) = x_1x_2$ is indeed smooth.  \n",
    "\n",
    "## Non-smooth functions\n",
    "However, with complex simulations this need not be the case.  In the following example we consider the `NACA0012` airfoil design problem where enlarged the domain and decreased the number of iterations such that discontinuities appear."
   ]
  },
  {
   "cell_type": "code",
   "execution_count": null,
   "metadata": {},
   "outputs": [],
   "source": [
    "# Cache the data to reduce running time\n",
    "try:\n",
    "    X = np.loadtxt('data/sweep_naca_X.dat')\n",
    "    fX = np.loadtxt('data/sweep_naca_10_fX.dat')\n",
    "    d = (X[1] - X[0])/np.linalg.norm(X[1] - X[0])\n",
    "    y = X.dot(d)\n",
    "except:\n",
    "    fun = psdr.demos.NACA0012(maxiter = 10, verbose = False, fraction = 0.1)\n",
    "    x = np.zeros(len(fun.domain))\n",
    "    p = np.ones(len(fun.domain))\n",
    "    X, y = fun.domain.sweep(n = 20, x = x, p = p)\n",
    "    fX = fun(X)\n",
    "    np.savetxt('data/sweep_naca_X.dat', X)\n",
    "    np.savetxt('data/sweep_naca_10_fX.dat', fX)"
   ]
  },
  {
   "cell_type": "code",
   "execution_count": null,
   "metadata": {},
   "outputs": [],
   "source": [
    "fig, axes = plt.subplots(1,2, figsize = (10,5))\n",
    "axes[0].plot(y, fX[:,0], '.')\n",
    "axes[0].set_title('Lift')\n",
    "axes[1].plot(y, fX[:,1], '.')\n",
    "axes[1].set_title('Drag')\n",
    "for ax in axes:\n",
    "    ax.set_xlabel('length along sweep')\n",
    "    ax.set_ylabel('$f(\\mathbf{x})$')\n",
    "fig.tight_layout()"
   ]
  },
  {
   "cell_type": "markdown",
   "metadata": {},
   "source": [
    "Here we see a jump discontinuity on the right side of each plot.\n",
    "\n",
    "However, if we shrink the domain and use more iterations (back to the defaults) we observe a smooth function."
   ]
  },
  {
   "cell_type": "code",
   "execution_count": null,
   "metadata": {},
   "outputs": [],
   "source": [
    "# Cache the data to reduce running time\n",
    "try:\n",
    "    X = np.loadtxt('data/sweep_naca_X.dat')\n",
    "    fX = np.loadtxt('data/sweep_naca_1000_fX.dat')\n",
    "    d = (X[1] - X[0])/np.linalg.norm(X[1] - X[0])\n",
    "    y = X.dot(d)\n",
    "except:\n",
    "    fun = psdr.demos.NACA0012(maxiter = 1000, verbose = False, fraction = 0.01)\n",
    "    X = np.loadtxt('data/sweep_naca_X.dat')\n",
    "    fX = fun(X)\n",
    "    np.savetxt('data/sweep_naca_1000_fX.dat', fX)\n",
    "    "
   ]
  },
  {
   "cell_type": "code",
   "execution_count": null,
   "metadata": {},
   "outputs": [],
   "source": [
    "fig, axes = plt.subplots(1,2, figsize = (10,5))\n",
    "axes[0].plot(y, fX[:,0], '.')\n",
    "axes[0].set_title('Lift')\n",
    "axes[1].plot(y, fX[:,1], '.')\n",
    "axes[1].set_title('Drag')\n",
    "for ax in axes:\n",
    "    ax.set_xlabel('length along sweep')\n",
    "    ax.set_ylabel('$f(\\mathbf{x})$')\n",
    "fig.tight_layout()"
   ]
  },
  {
   "cell_type": "code",
   "execution_count": null,
   "metadata": {},
   "outputs": [],
   "source": []
  }
 ],
 "metadata": {
  "kernelspec": {
   "display_name": "Python 3",
   "language": "python",
   "name": "python3"
  },
  "language_info": {
   "codemirror_mode": {
    "name": "ipython",
    "version": 3
   },
   "file_extension": ".py",
   "mimetype": "text/x-python",
   "name": "python",
   "nbconvert_exporter": "python",
   "pygments_lexer": "ipython3",
   "version": "3.7.3"
  }
 },
 "nbformat": 4,
 "nbformat_minor": 2
}
