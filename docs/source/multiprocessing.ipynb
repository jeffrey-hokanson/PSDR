{
 "cells": [
  {
   "cell_type": "code",
   "execution_count": null,
   "metadata": {},
   "outputs": [],
   "source": [
    "import numpy as np\n",
    "import psdr, psdr.demos"
   ]
  },
  {
   "cell_type": "markdown",
   "metadata": {},
   "source": [
    "# Multiprocessing\n",
    "\n",
    "When function evaluations are expensive, it becomes advantageous to run multiple evaluations in parallel.  In PSDR we use [dask.distributed](https://docs.dask.org/en/latest/) to orchestrate execution in parallel. The functionality is enabled in the function class by passing a dask client to the `psdr.Function` class when initializing a new function."
   ]
  },
  {
   "cell_type": "code",
   "execution_count": null,
   "metadata": {},
   "outputs": [],
   "source": [
    "from dask.distributed import Client, LocalCluster\n",
    "cluster = LocalCluster(processes = False, n_workers = 2)\n",
    "client = Client(cluster)\n",
    "\n",
    "def f(x):\n",
    "    import time\n",
    "    time.sleep(1) # simulates long running time\n",
    "    return x**2\n",
    "\n",
    "fun = psdr.Function(f, psdr.BoxDomain(-1,1), dask_client = client)"
   ]
  },
  {
   "cell_type": "markdown",
   "metadata": {},
   "source": [
    "Like the standard case we can evaluate the function directly, but we also gain a new ability to evaluate the function asyncronously.  This returns a future object."
   ]
  },
  {
   "cell_type": "code",
   "execution_count": null,
   "metadata": {},
   "outputs": [],
   "source": [
    "res = fun.eval_async([2.])\n",
    "print(res)"
   ]
  },
  {
   "cell_type": "markdown",
   "metadata": {},
   "source": [
    "This call is not blocking.  When we are ready to access the result, we call the blocking method"
   ]
  },
  {
   "cell_type": "code",
   "execution_count": null,
   "metadata": {},
   "outputs": [],
   "source": [
    "print(res.result())"
   ]
  },
  {
   "cell_type": "markdown",
   "metadata": {},
   "source": [
    "If we want to evaluate a number of these simultaneously, we can call `eval_async` with an array of inputs. Now this returns a list of Future objects."
   ]
  },
  {
   "cell_type": "code",
   "execution_count": null,
   "metadata": {},
   "outputs": [],
   "source": [
    "X = np.linspace(-1,1,11).reshape(-1,1)\n",
    "res_list = fun.eval_async(X)\n",
    "\n",
    "for res, x in zip(res_list, X):\n",
    "    print('x:', x, 'f(x)', res.result())"
   ]
  },
  {
   "cell_type": "markdown",
   "metadata": {},
   "source": [
    "To implement a poor-man's progress bar, we can use the dask distributed `as_completed` function to return those results that are done and use tqdm to provide a progress bar.  Moreover, we can access the index of the result in the call using the idx property attached to each result object. This allows us to store the values in order."
   ]
  },
  {
   "cell_type": "code",
   "execution_count": null,
   "metadata": {},
   "outputs": [],
   "source": [
    "from tqdm import tqdm_notebook\n",
    "from dask.distributed import as_completed\n",
    "X = np.linspace(-1,1,20).reshape(-1,1)\n",
    "res_list = fun.eval_async(X)\n",
    "fX = np.nan*np.zeros( (X.shape[0], 1))\n",
    "for res in tqdm_notebook(as_completed(res_list), total = len(res_list)):\n",
    "    print(res.idx)\n",
    "    fX[res.idx] = res.result()\n",
    "print(fX)"
   ]
  },
  {
   "cell_type": "code",
   "execution_count": null,
   "metadata": {},
   "outputs": [],
   "source": []
  }
 ],
 "metadata": {
  "kernelspec": {
   "display_name": "Python 3",
   "language": "python",
   "name": "python3"
  },
  "language_info": {
   "codemirror_mode": {
    "name": "ipython",
    "version": 3
   },
   "file_extension": ".py",
   "mimetype": "text/x-python",
   "name": "python",
   "nbconvert_exporter": "python",
   "pygments_lexer": "ipython3",
   "version": "3.7.3"
  }
 },
 "nbformat": 4,
 "nbformat_minor": 2
}
