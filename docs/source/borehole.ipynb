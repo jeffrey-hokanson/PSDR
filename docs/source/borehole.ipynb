{
 "cells": [
  {
   "cell_type": "markdown",
   "metadata": {},
   "source": [
    "# Defining a Custom Function\n",
    "This is a short tutorial on using the *Parameter Space Dimension Reduction* library on the (in)famous [borehole test function](https://www.sfu.ca/~ssurjano/borehole.html).  Although this function is provided as a demo (with analytic gradients), here we provide a complete example setting up a function in this library."
   ]
  },
  {
   "cell_type": "markdown",
   "metadata": {},
   "source": [
    "## Standard imports\n",
    "To begin, we import numpy and psdr."
   ]
  },
  {
   "cell_type": "code",
   "execution_count": null,
   "metadata": {},
   "outputs": [],
   "source": [
    "import numpy as np\n",
    "import matplotlib.pyplot as plt\n",
    "%matplotlib inline\n",
    "%config InlineBackend.figure_format = 'retina'\n",
    "import psdr"
   ]
  },
  {
   "cell_type": "markdown",
   "metadata": {},
   "source": [
    "## Problem Setup\n",
    "To define a problem for use with this library, there are two basic steps. First we need to define the domain on which we will be working.  As engineering applications frequently have poorly scaled variables with different units, defining a domain allows us to correct this effect when evaluating the importance of a particular set of parameters.  Second, we need to define the function, posed on this domain, that we are interested in studying.  Depending on the technique we use, we need to either have access to the function itself or to samples of the function.  Here we define the function and then sample it as appropreate for each technique. \n"
   ]
  },
  {
   "cell_type": "markdown",
   "metadata": {},
   "source": [
    "### Defining the domain\n",
    "\n",
    "The borehole function has eight variables:\n",
    "\n",
    "Parameter and Domain   | Description \n",
    "---------------------|----------\n",
    "$r_w \\in [0.05, 0.15]$   | radius of borehole (m) \n",
    "$r \\in [100, 50\\times 10^3]$ | radius of influence (m) \n",
    "$T_u \\in [63700, 115600]$ | transmissivity of upper aquifer ($m^2$/yr)\n",
    "$H_u \\in [990, 1110]$ | potentiometric head of upper aquifer (m)\n",
    "$T_\\ell \\in [63.1, 116]\t$ | transmissivity of lower aquifer ($m^2$/yr)\n",
    "$H_\\ell \\in [700, 820]$ | potentiometric head of lower aquifer (m)\n",
    "$L \\in [1120, 1680]$ | length of borehole (m)\n",
    "$K_w \\in [9855, 12045]$ | hydraulic conductivity of borehole (m/yr)\n",
    "\n",
    "To begin, we first setup a domain for each variable."
   ]
  },
  {
   "cell_type": "code",
   "execution_count": null,
   "metadata": {},
   "outputs": [],
   "source": [
    "rw_domain = psdr.BoxDomain(0.05, 0.15)\n",
    "r_domain = psdr.BoxDomain(100, 50e3)\n",
    "Tu_domain = psdr.BoxDomain(63700, 115600)\n",
    "Hu_domain = psdr.BoxDomain(990, 1110)\n",
    "Tell_domain = psdr.BoxDomain(63.1, 116)\n",
    "Hell_domain = psdr.BoxDomain(700, 820)\n",
    "L_domain = psdr.BoxDomain(1120, 1680)\n",
    "Kw_domain = psdr.BoxDomain(9855, 12045)"
   ]
  },
  {
   "cell_type": "markdown",
   "metadata": {},
   "source": [
    "Then, we combine these domains for each variable into a domain for the entire borehole function:"
   ]
  },
  {
   "cell_type": "code",
   "execution_count": null,
   "metadata": {},
   "outputs": [],
   "source": [
    "borehole_domain = psdr.TensorProductDomain([\n",
    "    rw_domain, r_domain, Tu_domain, Hu_domain,\n",
    "    Tell_domain, Hell_domain, L_domain, Kw_domain])"
   ]
  },
  {
   "cell_type": "markdown",
   "metadata": {},
   "source": [
    "This class instance provides many functions to interact with the domain.  For example, we can sample a random point in this domain."
   ]
  },
  {
   "cell_type": "code",
   "execution_count": null,
   "metadata": {},
   "outputs": [],
   "source": [
    "borehole_domain.sample(1)"
   ]
  },
  {
   "cell_type": "markdown",
   "metadata": {},
   "source": [
    "### Defining the Function\n",
    "\n",
    "The borehole function is:\n",
    "\n",
    "$$ f(r_w, r, T_u, H_u, T_\\ell, H_\\ell, L, K_w) := \\frac{ 2\\pi T_u (H_u - H_\\ell)}{\\log(r/r_w) \n",
    "    ( 1 + \\frac{2L T_u}{\\log(r/r_w) r_w^2 K_w} + \\frac{T_u}{T_\\ell} )}.\n",
    "$$\n",
    "\n",
    "So we simply define this function that takes an array-like input and returns the output."
   ]
  },
  {
   "cell_type": "code",
   "execution_count": null,
   "metadata": {},
   "outputs": [],
   "source": [
    "def borehole_func(x):\n",
    "    r_w = x[0]\n",
    "    r = x[1]\n",
    "    T_u = x[2]\n",
    "    H_u = x[3]\n",
    "    T_l = x[4]\n",
    "    H_l = x[5]\n",
    "    L = x[6]\n",
    "    K_w = x[7]\n",
    "    return 2*np.pi*T_u*(H_u - H_l)/(np.log(r/r_w)*(1 + 2*L*T_u/(np.log(r/r_w)*r_w**2*K_w) + T_u/T_l))"
   ]
  },
  {
   "cell_type": "markdown",
   "metadata": {},
   "source": [
    "### Wrapping the Function\n",
    "For convience, we can wrap a function in the Function environment.  This does several important things.  First, it automatically converts function on the application domain to a function on the normalized domain.  Further, as illustrated here, it can automatically estimate gradients using a finite difference approximation.  However, if gradients are availble, these can also be provided."
   ]
  },
  {
   "cell_type": "code",
   "execution_count": null,
   "metadata": {},
   "outputs": [],
   "source": [
    "borehole = psdr.Function(borehole_func, borehole_domain, fd_grad = True)"
   ]
  },
  {
   "cell_type": "markdown",
   "metadata": {},
   "source": [
    "## Active Subspace"
   ]
  },
  {
   "cell_type": "code",
   "execution_count": null,
   "metadata": {},
   "outputs": [],
   "source": [
    "X = borehole.domain.sample(200)\n",
    "grads = borehole.grad(X)"
   ]
  },
  {
   "cell_type": "code",
   "execution_count": null,
   "metadata": {},
   "outputs": [],
   "source": [
    "active = psdr.ActiveSubspace()\n",
    "active.fit(grads)"
   ]
  },
  {
   "cell_type": "code",
   "execution_count": null,
   "metadata": {},
   "outputs": [],
   "source": [
    "fX = borehole(X)\n",
    "active.shadow_plot(X, fX, dim = 1)"
   ]
  },
  {
   "cell_type": "code",
   "execution_count": null,
   "metadata": {},
   "outputs": [],
   "source": [
    "active.shadow_plot(X, fX, dim = 2)"
   ]
  },
  {
   "cell_type": "markdown",
   "metadata": {},
   "source": [
    "## Constructing a Ridge Approximation"
   ]
  },
  {
   "cell_type": "code",
   "execution_count": null,
   "metadata": {},
   "outputs": [],
   "source": [
    "X = borehole.domain.sample(200)\n",
    "fX = borehole(X)"
   ]
  },
  {
   "cell_type": "code",
   "execution_count": null,
   "metadata": {},
   "outputs": [],
   "source": [
    "pra = psdr.PolynomialRidgeApproximation(degree = 5, subspace_dimension = 1, norm = 2, bound = 'upper')\n",
    "pra.fit(X, fX)"
   ]
  },
  {
   "cell_type": "code",
   "execution_count": null,
   "metadata": {},
   "outputs": [],
   "source": [
    "pra.shadow_plot(X, fX);"
   ]
  },
  {
   "cell_type": "markdown",
   "metadata": {},
   "source": [
    "Of course, we can also construct ridge approximations with higher dimensional subspaces."
   ]
  },
  {
   "cell_type": "code",
   "execution_count": null,
   "metadata": {},
   "outputs": [],
   "source": [
    "pra2 = psdr.PolynomialRidgeApproximation(degree = 5, subspace_dimension = 2)\n",
    "pra2.fit(X, fX)"
   ]
  },
  {
   "cell_type": "code",
   "execution_count": null,
   "metadata": {},
   "outputs": [],
   "source": [
    "pra2.U"
   ]
  },
  {
   "cell_type": "code",
   "execution_count": null,
   "metadata": {},
   "outputs": [],
   "source": [
    "pra2.shadow_plot(X, fX)"
   ]
  },
  {
   "cell_type": "code",
   "execution_count": null,
   "metadata": {},
   "outputs": [],
   "source": []
  }
 ],
 "metadata": {
  "kernelspec": {
   "display_name": "Python 3",
   "language": "python",
   "name": "python3"
  },
  "language_info": {
   "codemirror_mode": {
    "name": "ipython",
    "version": 3
   },
   "file_extension": ".py",
   "mimetype": "text/x-python",
   "name": "python",
   "nbconvert_exporter": "python",
   "pygments_lexer": "ipython3",
   "version": "3.7.3"
  }
 },
 "nbformat": 4,
 "nbformat_minor": 2
}
