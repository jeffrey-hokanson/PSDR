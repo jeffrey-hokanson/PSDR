{
 "cells": [
  {
   "cell_type": "code",
   "execution_count": null,
   "metadata": {},
   "outputs": [],
   "source": [
    "import numpy as np\n",
    "import psdr, psdr.demos\n",
    "import matplotlib.pyplot as plt\n",
    "%matplotlib inline"
   ]
  },
  {
   "cell_type": "code",
   "execution_count": null,
   "metadata": {},
   "outputs": [],
   "source": [
    "np.random.seed(0)\n",
    "fun = psdr.demos.OTLCircuit()\n",
    "X = fun.domain.sample(100)\n",
    "fX = fun(X)"
   ]
  },
  {
   "cell_type": "code",
   "execution_count": null,
   "metadata": {},
   "outputs": [],
   "source": [
    "lip = psdr.LipschitzMatrix()\n",
    "opg = psdr.OuterProductGradient()\n",
    "pra = psdr.PolynomialRidgeApproximation(degree =5, subspace_dimension = 1)\n",
    "for dim in [lip, opg, pra]:\n",
    "    dim.fit(X, fX)\n"
   ]
  },
  {
   "cell_type": "code",
   "execution_count": null,
   "metadata": {},
   "outputs": [],
   "source": [
    "fig, axes = plt.subplots(2,2,figsize = (10,10))\n",
    "\n",
    "for ax, dim in zip(axes.flatten(), [lip, opg, pra]):\n",
    "    dim.shadow_plot(X, fX, ax =ax )\n",
    "    ax.set_ylim(2, 10)\n",
    "    ax.set_title(dim.__str__()[1:-1])\n",
    "    \n",
    "fig.tight_layout()"
   ]
  },
  {
   "cell_type": "code",
   "execution_count": null,
   "metadata": {},
   "outputs": [],
   "source": []
  }
 ],
 "metadata": {
  "kernelspec": {
   "display_name": "Python 3",
   "language": "python",
   "name": "python3"
  },
  "language_info": {
   "codemirror_mode": {
    "name": "ipython",
    "version": 3
   },
   "file_extension": ".py",
   "mimetype": "text/x-python",
   "name": "python",
   "nbconvert_exporter": "python",
   "pygments_lexer": "ipython3",
   "version": "3.7.3"
  }
 },
 "nbformat": 4,
 "nbformat_minor": 2
}
