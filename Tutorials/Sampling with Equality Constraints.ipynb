{
 "cells": [
  {
   "cell_type": "code",
   "execution_count": null,
   "metadata": {},
   "outputs": [],
   "source": [
    "import numpy as np\n",
    "import psdr"
   ]
  },
  {
   "cell_type": "code",
   "execution_count": null,
   "metadata": {},
   "outputs": [],
   "source": [
    "# Domain on the [-1,1]^m hypercube\n",
    "m = 8\n",
    "domain = psdr.BoxDomain(-np.ones(m), np.ones(m))\n",
    "# 2d active subspace\n",
    "U = np.random.randn(m, 2)\n",
    "\n",
    "# domain with the constraint U.T @ x = b_eq\n",
    "b_eq = np.zeros(U.shape[1])\n",
    "con_domain = domain.add_constraints(A_eq = U.T, b_eq = b_eq)\n",
    "\n",
    "# Now sample uniformly on the domain\n",
    "X = con_domain.sample(10)\n",
    "\n",
    "# Verify that these satisfy equality constraint\n",
    "(U.T @ X.T).T"
   ]
  },
  {
   "cell_type": "code",
   "execution_count": null,
   "metadata": {},
   "outputs": [],
   "source": []
  }
 ],
 "metadata": {
  "kernelspec": {
   "display_name": "Python 3",
   "language": "python",
   "name": "python3"
  },
  "language_info": {
   "codemirror_mode": {
    "name": "ipython",
    "version": 3
   },
   "file_extension": ".py",
   "mimetype": "text/x-python",
   "name": "python",
   "nbconvert_exporter": "python",
   "pygments_lexer": "ipython3",
   "version": "3.7.8"
  }
 },
 "nbformat": 4,
 "nbformat_minor": 4
}
