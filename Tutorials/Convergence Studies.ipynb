{
 "cells": [
  {
   "cell_type": "code",
   "execution_count": null,
   "metadata": {},
   "outputs": [],
   "source": [
    "import matplotlib.pyplot as plt\n",
    "import numpy as np\n",
    "%matplotlib inline\n",
    "%config InlineBackend.figure_format = 'retina'\n",
    "import psdr, psdr.demos"
   ]
  },
  {
   "cell_type": "markdown",
   "metadata": {},
   "source": [
    "# Studying Convergence\n",
    "\n",
    "Here we illustrate how to use the `subspace_convergence` function to study how estimates of an active subspace converge with increasing data.  The following is a template showing how this analysis function works and providing a plot.  Later cells repeat this template updating the parameter values for different studies"
   ]
  },
  {
   "cell_type": "markdown",
   "metadata": {},
   "source": [
    "### Mean Gradient Outer-product"
   ]
  },
  {
   "cell_type": "code",
   "execution_count": null,
   "metadata": {},
   "outputs": [],
   "source": [
    "# The function we want to analyze\n",
    "fun = psdr.demos.Borehole()\n",
    "# The subspace-based dimension reduction technique\n",
    "subdim = psdr.ActiveSubspace()\n",
    "#subdim = psdr.LipschitzMatrix()\n",
    "# How we want to sample the domain\n",
    "sampler = psdr.random_sample\n",
    "#sampler = psdr.latin_hypercube_sample\n",
    "# Number of queries of the function to use\n",
    "Ms = np.logspace(0, 4, 50)\n",
    "# Which type of data to use,\n",
    "data = 'grad'\n",
    "# data = 'eval'\n",
    "# number of subspace dimensions to compare\n",
    "subspace_dimension = 1\n",
    "\n",
    "Ntrials = 5\n",
    "\n",
    "fig, ax = plt.subplots()\n",
    "ax.set_yscale('log')\n",
    "ax.set_xscale('log')\n",
    "ax.set_xlabel('number of queries')\n",
    "ax.set_ylabel('max subspace angle (degrees)')\n",
    "for seed in range(Ntrials):\n",
    "    np.random.seed(seed)\n",
    "    ang, Ms_ = psdr.subspace_convergence(subdim, fun, sampler, Ms, data = data, subspace_dimension = subspace_dimension)\n",
    "    ax.plot(Ms_, 180/np.pi*ang, alpha = 0.5)"
   ]
  },
  {
   "cell_type": "markdown",
   "metadata": {},
   "source": [
    "### Lipschitz Matrix"
   ]
  },
  {
   "cell_type": "code",
   "execution_count": null,
   "metadata": {},
   "outputs": [],
   "source": [
    "# The function we want to analyze\n",
    "fun = psdr.demos.Borehole()\n",
    "# The subspace-based dimension reduction technique\n",
    "subdim = psdr.LipschitzMatrix()\n",
    "# How we want to sample the domain\n",
    "sampler = psdr.random_sample\n",
    "# Number of queries of the function to use\n",
    "Ms = np.logspace(0, 3, 50)\n",
    "# Which type of data to use,\n",
    "data = 'grad'\n",
    "# data = 'eval'\n",
    "# number of subspace dimensions to compare\n",
    "subspace_dimension = 1\n",
    "\n",
    "Ntrials = 1\n",
    "\n",
    "fig, ax = plt.subplots()\n",
    "ax.set_yscale('log')\n",
    "ax.set_xscale('log')\n",
    "ax.set_xlabel('number of queries')\n",
    "ax.set_ylabel('max subspace angle (degrees)')\n",
    "for seed in range(Ntrials):\n",
    "    np.random.seed(seed)\n",
    "    ang, Ms_ = psdr.subspace_convergence(subdim, fun, sampler, Ms, data = data, subspace_dimension = subspace_dimension)\n",
    "    ax.plot(Ms_, 180/np.pi*ang, alpha = 0.5)"
   ]
  },
  {
   "cell_type": "markdown",
   "metadata": {},
   "source": [
    "### Polynomial Ridge Approximation"
   ]
  },
  {
   "cell_type": "code",
   "execution_count": null,
   "metadata": {},
   "outputs": [],
   "source": [
    "# The function we want to analyze\n",
    "fun = psdr.demos.Borehole()\n",
    "# The subspace-based dimension reduction technique\n",
    "subspace_dimension = 1\n",
    "subdim = psdr.PolynomialRidgeApproximation(subspace_dimension = subspace_dimension, degree = 5)\n",
    "# How we want to sample the domain\n",
    "sampler = psdr.random_sample\n",
    "# Number of queries of the function to use\n",
    "Ms = np.logspace(np.log10(30), 4, 50)\n",
    "# Which type of data to use,\n",
    "data = 'eval'\n",
    "Ntrials = 5\n",
    "\n",
    "fig, ax = plt.subplots()\n",
    "ax.set_yscale('log')\n",
    "ax.set_xscale('log')\n",
    "ax.set_xlabel('number of queries')\n",
    "ax.set_ylabel('max subspace angle (degrees)')\n",
    "for seed in range(Ntrials):\n",
    "    np.random.seed(seed)\n",
    "    ang, Ms_ = psdr.subspace_convergence(subdim, fun, sampler, Ms, data = data, subspace_dimension = subspace_dimension)\n",
    "    ax.plot(Ms_, 180/np.pi*ang, alpha = 0.5)"
   ]
  },
  {
   "cell_type": "markdown",
   "metadata": {},
   "source": [
    "### Lipschitz Matrix (function evaluations)"
   ]
  },
  {
   "cell_type": "code",
   "execution_count": null,
   "metadata": {},
   "outputs": [],
   "source": [
    "# The function we want to analyze\n",
    "fun = psdr.demos.Borehole()\n",
    "# The subspace-based dimension reduction technique\n",
    "subspace_dimension = 1\n",
    "subdim = psdr.LipschitzMatrix()\n",
    "# How we want to sample the domain\n",
    "sampler = psdr.random_sample\n",
    "# Number of queries of the function to use\n",
    "# Note due to the expense of constructing this matrix we don't use many samples\n",
    "Ms = np.logspace(np.log10(30), np.log10(100), 5)\n",
    "# Which type of data to use,\n",
    "data = 'eval'\n",
    "Ntrials = 5\n",
    "\n",
    "fig, ax = plt.subplots()\n",
    "ax.set_yscale('log')\n",
    "ax.set_xscale('log')\n",
    "ax.set_xlabel('number of queries')\n",
    "ax.set_ylabel('max subspace angle (degrees)')\n",
    "for seed in range(Ntrials):\n",
    "    np.random.seed(seed)\n",
    "    ang, Ms_ = psdr.subspace_convergence(subdim, fun, sampler, Ms, data = data, subspace_dimension = subspace_dimension)\n",
    "    ax.plot(Ms_, 180/np.pi*ang, alpha = 0.5)"
   ]
  },
  {
   "cell_type": "code",
   "execution_count": null,
   "metadata": {},
   "outputs": [],
   "source": []
  }
 ],
 "metadata": {
  "kernelspec": {
   "display_name": "Python 3",
   "language": "python",
   "name": "python3"
  },
  "language_info": {
   "codemirror_mode": {
    "name": "ipython",
    "version": 3
   },
   "file_extension": ".py",
   "mimetype": "text/x-python",
   "name": "python",
   "nbconvert_exporter": "python",
   "pygments_lexer": "ipython3",
   "version": "3.7.8"
  }
 },
 "nbformat": 4,
 "nbformat_minor": 4
}
