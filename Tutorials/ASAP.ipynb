{
 "cells": [
  {
   "cell_type": "code",
   "execution_count": null,
   "metadata": {},
   "outputs": [],
   "source": [
    "%matplotlib inline\n",
    "%config InlineBackend.figure_format = 'retina'"
   ]
  },
  {
   "cell_type": "markdown",
   "metadata": {},
   "source": [
    "# Working with Precomputed Databases\n",
    "Sometimes we don't have access to a function, but are instead handed a database of simulations from which we are asked to extract insight.  In this example, we consider (Zach: please tell us about this data).  "
   ]
  },
  {
   "cell_type": "code",
   "execution_count": null,
   "metadata": {},
   "outputs": [],
   "source": [
    "import numpy as np\n",
    "import scipy.io\n",
    "import psdr"
   ]
  },
  {
   "cell_type": "markdown",
   "metadata": {},
   "source": [
    "## Importing data\n",
    "Here we use standard scipy tools to import the saved data in a `.mat` file.  We also bring in the lower and upper bounds so that we can construct the normalized domain."
   ]
  },
  {
   "cell_type": "code",
   "execution_count": null,
   "metadata": {},
   "outputs": [],
   "source": [
    "# Import ASAP saved data\n",
    "dat = scipy.io.loadmat('AS_m10_N1000_pm60pct_QOI2.mat')\n",
    "X_app = dat['X0']\n",
    "CL = dat['F'].flatten()"
   ]
  },
  {
   "cell_type": "markdown",
   "metadata": {},
   "source": [
    "## Normalized Units\n",
    "Unlike working with functions, we need to be careful to convert into normalized units before performing any analysis.  Here we construct a box domain, a normalized box domain ($[-1,1]^n$), and convert the inputs in the application units into the normalized domain."
   ]
  },
  {
   "cell_type": "code",
   "execution_count": null,
   "metadata": {},
   "outputs": [],
   "source": [
    "lb = dat['lb0'].flatten()\n",
    "ub = dat['ub0'].flatten()\n",
    "dom_app = psdr.BoxDomain(lb, ub)\n",
    "dom = dom_app.normalized_domain()\n",
    "X = dom_app.normalize(X_app)"
   ]
  },
  {
   "cell_type": "markdown",
   "metadata": {},
   "source": [
    "## Identifying Low-Dimensional Structure"
   ]
  },
  {
   "cell_type": "code",
   "execution_count": null,
   "metadata": {},
   "outputs": [],
   "source": [
    "# try Polynomial Ridge Approximation\n",
    "pra = psdr.PolynomialRidgeApproximation(degree = 2,subspace_dimension = 1)\n",
    "pra.fit(X,CL)\n",
    "ax = pra.shadow_plot(X,CL)"
   ]
  },
  {
   "cell_type": "code",
   "execution_count": null,
   "metadata": {},
   "outputs": [],
   "source": [
    "np.linalg.norm(pra(X) - CL)/np.linalg.norm(CL)"
   ]
  },
  {
   "cell_type": "code",
   "execution_count": null,
   "metadata": {},
   "outputs": [],
   "source": []
  }
 ],
 "metadata": {
  "kernelspec": {
   "display_name": "Python 3",
   "language": "python",
   "name": "python3"
  },
  "language_info": {
   "codemirror_mode": {
    "name": "ipython",
    "version": 3
   },
   "file_extension": ".py",
   "mimetype": "text/x-python",
   "name": "python",
   "nbconvert_exporter": "python",
   "pygments_lexer": "ipython3",
   "version": "3.7.3"
  }
 },
 "nbformat": 4,
 "nbformat_minor": 2
}
