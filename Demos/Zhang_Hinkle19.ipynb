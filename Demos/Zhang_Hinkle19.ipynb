{
 "cells": [
  {
   "cell_type": "code",
   "execution_count": null,
   "metadata": {},
   "outputs": [],
   "source": [
    "from __future__ import print_function\n",
    "import numpy as np\n",
    "import psdr\n",
    "import matplotlib.pyplot as plt\n",
    "%matplotlib inline\n",
    "%config InlineBackend.figure_format = 'retina'"
   ]
  },
  {
   "cell_type": "markdown",
   "metadata": {},
   "source": [
    "Here we consider the approximation problems posed in a paper by Zhang, Zhang, and Hinkle (ORNL) https://arxiv.org/pdf/1902.10652.pdf"
   ]
  },
  {
   "cell_type": "markdown",
   "metadata": {},
   "source": [
    "# Function 4\n",
    "\n",
    "$$ f_4(\\mathbf{x}) = \\sin( x_1^2 + x_2^2 + \\cdots + x_{20}^2) \\quad \\mathbf{x} \\in [0,1]^{20}$$"
   ]
  },
  {
   "cell_type": "code",
   "execution_count": null,
   "metadata": {},
   "outputs": [],
   "source": [
    "dom4 = psdr.BoxDomain(np.zeros(20), np.ones(20))\n",
    "f4 = lambda x: np.sin(np.sum([xi**2 for xi in x]))\n",
    "fun4 = psdr.Function(f4, dom4)"
   ]
  },
  {
   "cell_type": "code",
   "execution_count": null,
   "metadata": {},
   "outputs": [],
   "source": [
    "np.random.seed(0)\n",
    "X = fun4.domain.sample(500)\n",
    "fX = fun4(X).flatten()\n",
    "Xtest = fun4.domain.sample(500)\n",
    "fXtest = fun4(Xtest).flatten()"
   ]
  },
  {
   "cell_type": "code",
   "execution_count": null,
   "metadata": {},
   "outputs": [],
   "source": [
    "pra = psdr.PolynomialRidgeApproximation(subspace_dimension = 1, degree =9)\n",
    "pra.fit(X, fX)\n",
    "pra.shadow_plot(X, fX)"
   ]
  },
  {
   "cell_type": "code",
   "execution_count": null,
   "metadata": {},
   "outputs": [],
   "source": [
    "fig, ax = plt.subplots(figsize = (6,6,))\n",
    "ax.plot(pra(X).flatten(), fX,'.', label = 'training')\n",
    "ax.plot(pra(Xtest).flatten(), fXtest,'.', label = 'testing')\n",
    "ax.legend()\n",
    "rmse = np.linalg.norm( (pra(Xtest) - fXtest))/np.sqrt(X.shape[0])\n",
    "print(\"RMSE Error %5.4f%%\" % (100*rmse,))"
   ]
  },
  {
   "cell_type": "markdown",
   "metadata": {},
   "source": [
    "## Function 5\n",
    "Here we consider the fifth function they give in eq. 16:\n",
    "$$ f_5 = \\prod_{i=1}^{20} (1.2^{-2} + x_i^2)^{-1} \\quad \\mathbf{x} \\in [0,1]^{20}$$"
   ]
  },
  {
   "cell_type": "code",
   "execution_count": null,
   "metadata": {},
   "outputs": [],
   "source": [
    "dom = psdr.BoxDomain(np.zeros(20), np.ones(20))\n",
    "f5 = lambda x: np.prod([(1.2**(-2) + xi**2)**(-1) for xi in x])\n",
    "fun5 = psdr.Function(f5, dom)"
   ]
  },
  {
   "cell_type": "markdown",
   "metadata": {},
   "source": [
    "According to footnote 1 on page 8, they use 500 training samples."
   ]
  },
  {
   "cell_type": "code",
   "execution_count": null,
   "metadata": {},
   "outputs": [],
   "source": [
    "np.random.seed(0)\n",
    "X = fun5.domain.sample(500)\n",
    "fX = fun5(X).flatten()\n",
    "Xtest = fun5.domain.sample(500)\n",
    "fXtest = fun5(Xtest).flatten()"
   ]
  },
  {
   "cell_type": "markdown",
   "metadata": {},
   "source": [
    "This function displays strong 1-d ridge structure.  However, there must be something weird going on in their definition of the function, since the upper left plot in Figure 10 goes to 10, whereas here we see the value go only to ~0.08."
   ]
  },
  {
   "cell_type": "code",
   "execution_count": null,
   "metadata": {},
   "outputs": [],
   "source": [
    "pra = psdr.PolynomialRidgeApproximation(subspace_dimension = 1, degree =5)\n",
    "pra.fit(X, fX)\n",
    "pra.shadow_plot(X, fX)"
   ]
  },
  {
   "cell_type": "code",
   "execution_count": null,
   "metadata": {},
   "outputs": [],
   "source": [
    "fig, ax = plt.subplots(figsize = (6,6))\n",
    "ax.plot(pra(X).flatten(), fX,'.', label = 'training')\n",
    "ax.plot(pra(Xtest).flatten(), fXtest,'.', label = 'testing')\n",
    "ax.legend()\n",
    "rmse = np.linalg.norm(pra(Xtest) - fXtest)/np.sqrt(X.shape[0])\n",
    "print(\"RMSE Error %5.4f%%\" % (100*rmse,))"
   ]
  },
  {
   "cell_type": "code",
   "execution_count": null,
   "metadata": {},
   "outputs": [],
   "source": []
  }
 ],
 "metadata": {
  "kernelspec": {
   "display_name": "Python 3",
   "language": "python",
   "name": "python3"
  },
  "language_info": {
   "codemirror_mode": {
    "name": "ipython",
    "version": 3
   },
   "file_extension": ".py",
   "mimetype": "text/x-python",
   "name": "python",
   "nbconvert_exporter": "python",
   "pygments_lexer": "ipython3",
   "version": "3.7.3"
  }
 },
 "nbformat": 4,
 "nbformat_minor": 2
}
