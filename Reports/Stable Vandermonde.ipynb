{
 "cells": [
  {
   "cell_type": "markdown",
   "metadata": {},
   "source": [
    "In \"Vandermonde with Arnoldi\" Brubeck, Nakatsukasa, and Trefethen propose a more stable way to compute polynomial approximations using Vandermonde matrices by using (essentially) the idea from Krylov subspaces to maintain a stable basis. Here, I seek to ask: can we use the same approach to improve the stability of Polynomial Ridge Approximation?"
   ]
  },
  {
   "cell_type": "code",
   "execution_count": null,
   "metadata": {},
   "outputs": [],
   "source": [
    "import numpy as np\n",
    "import mpmath as mp"
   ]
  },
  {
   "cell_type": "markdown",
   "metadata": {},
   "source": [
    "## Code from Paper"
   ]
  },
  {
   "cell_type": "code",
   "execution_count": null,
   "metadata": {},
   "outputs": [],
   "source": [
    "def polyfitA(x, f, n):\n",
    "    r\"\"\"\n",
    "    Parameters\n",
    "    -----------\n",
    "    x: array-like\n",
    "        Samples\n",
    "    f: array-like\n",
    "        Data to fit\n",
    "    n: int\n",
    "        degree of polynomial\n",
    "    \"\"\"\n",
    "    x = np.array(x)\n",
    "    m = len(x)\n",
    "    Q = np.ones((m, n+1))\n",
    "    H = np.zeros((n+1,n))\n",
    "    for k in range(n):\n",
    "        q = x*Q[:,k]\n",
    "        for j in range(k+1):\n",
    "            H[j,k] = Q[:,j].T @ q/m\n",
    "            q -= H[j,k]*Q[:,j]\n",
    "        H[k+1,k] = np.linalg.norm(q)/np.sqrt(m)\n",
    "        Q[:,k+1] = q/H[k+1,k]\n",
    "    \n",
    "    d = np.linalg.lstsq(Q, f, rcond = None)[0]\n",
    "    return d, H\n",
    "\n",
    "def polyvalA(d, H, s):\n",
    "    r\"\"\"\n",
    "    \"\"\"\n",
    "    H = np.array(H)\n",
    "    s = np.array(s)\n",
    "    M = len(s)\n",
    "    n = H.shape[1]\n",
    "    W = np.ones((M,n+1))\n",
    "    for k in range(n):\n",
    "        w = s*W[:,k]\n",
    "        for j in range(k):\n",
    "            w -= H[j,k] * W[:,j]\n",
    "        W[:,k+1] = w/H[k+1,k]\n",
    "    y = W @ d\n",
    "    return y\n",
    "\n"
   ]
  },
  {
   "cell_type": "code",
   "execution_count": null,
   "metadata": {},
   "outputs": [],
   "source": [
    "n = 200\n",
    "x = np.cos(np.arange(n+1)*np.pi/n)\n",
    "f = 1./(1+25*x**2)\n",
    "d, H = polyfitA(x, f, n)\n",
    "f2 = polyvalA(d, H, x)\n",
    "print(np.linalg.norm(f - f2, np.inf))"
   ]
  },
  {
   "cell_type": "code",
   "execution_count": null,
   "metadata": {},
   "outputs": [],
   "source": [
    "np.linalg.cond(H)"
   ]
  },
  {
   "cell_type": "code",
   "execution_count": null,
   "metadata": {},
   "outputs": [],
   "source": [
    "# Compare against standard QR\n",
    "p = np.polyfit(x, f, n)\n",
    "f2 = np.polyval(p, x)\n",
    "print(np.linalg.norm(f - f2, np.inf))"
   ]
  },
  {
   "cell_type": "code",
   "execution_count": null,
   "metadata": {},
   "outputs": [],
   "source": [
    "H"
   ]
  },
  {
   "cell_type": "code",
   "execution_count": null,
   "metadata": {},
   "outputs": [],
   "source": [
    "help(np.meshgrid)    "
   ]
  },
  {
   "cell_type": "code",
   "execution_count": null,
   "metadata": {},
   "outputs": [],
   "source": [
    "help(scipy.special)"
   ]
  },
  {
   "cell_type": "code",
   "execution_count": null,
   "metadata": {},
   "outputs": [],
   "source": []
  }
 ],
 "metadata": {
  "kernelspec": {
   "display_name": "Python 3",
   "language": "python",
   "name": "python3"
  },
  "language_info": {
   "codemirror_mode": {
    "name": "ipython",
    "version": 3
   },
   "file_extension": ".py",
   "mimetype": "text/x-python",
   "name": "python",
   "nbconvert_exporter": "python",
   "pygments_lexer": "ipython3",
   "version": "3.7.5"
  }
 },
 "nbformat": 4,
 "nbformat_minor": 2
}
